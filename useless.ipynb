{
 "cells": [
  {
   "cell_type": "code",
   "execution_count": null,
   "metadata": {},
   "outputs": [],
   "source": [
    "db_books_path = \"kaggle-short-stories/db_books.csv\"\n",
    "stories_path = \"kaggle-short-stories/stories.csv\"\n",
    "\n",
    "import pandas as pd\n",
    "\n",
    "db_books_df = pd.read_csv(db_books_path)\n",
    "stories_path_df = pd.read_csv(stories_path)\n",
    "\n",
    "import pandas as pd\n",
    "import re\n",
    "\n",
    "# Sample DataFrame creation (replace this with your actual DataFrame)\n",
    "# df = pd.DataFrame({'stories': ['Your story texts here...']})\n",
    "\n",
    "# Function to clean the text\n",
    "def clean_text(text):\n",
    "    # Regular expression pattern to match the boilerplate text\n",
    "    boilerplate_pattern = r\"\\*\\*\\* START OF THIS PROJECT GUTENBERG EBOOK .+?\\*\\*\\*(.+)\"\n",
    "    \n",
    "    # Cleaning boilerplate\n",
    "    cleaned_text = re.sub(boilerplate_pattern, r\"\\1\", text, flags=re.DOTALL)\n",
    "\n",
    "    # Regular expression to remove text between more than six newlines\n",
    "    newline_pattern = r\"\\n{6,}.*?\\n{6,}\"\n",
    "\n",
    "    # Cleaning text between more than six newlines\n",
    "    cleaned_text = re.sub(newline_pattern, '\\n', cleaned_text, flags=re.DOTALL)\n",
    "\n",
    "    return cleaned_text.strip()  # Strips leading and trailing whitespace\n",
    "\n",
    "# Apply the cleaning function to each story in the DataFrame\n",
    "stories_path_df['cleaned_stories'] = stories_path_df['content'].apply(clean_text)\n",
    "\n",
    "# Now df['cleaned_stories'] contains the cleaned text\n"
   ]
  }
 ],
 "metadata": {
  "language_info": {
   "name": "python"
  }
 },
 "nbformat": 4,
 "nbformat_minor": 2
}
