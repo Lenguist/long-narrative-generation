{
 "cells": [
  {
   "cell_type": "code",
   "execution_count": null,
   "metadata": {},
   "outputs": [],
   "source": [
    "# create a function introduce coherence errors"
   ]
  },
  {
   "cell_type": "code",
   "execution_count": 1,
   "metadata": {},
   "outputs": [],
   "source": [
    "init_text = \"\"\"\n",
    "Aimee Kincaid came home to an empty apartment. She found the silence deafening. She felt alone, even though she had spent the day around people, listening to them talk and laugh and complain. She knew how it sounded when a person sat in solitude after a long trip. She would return from a long journey and sit on her bed and watch the light through the blinds or listen to her neighbor’s conversations with his wife on their balcony.\n",
    "\n",
    "But she had never been home alone like this. Maybe that was why she felt so strange. So different, out of place. The solitude was new to her.\n",
    "\n",
    "She went into the bathroom and turned on the shower and then, without really knowing why she wanted to, she moved through the apartment turning on all the lights. She turned them on in the kitchen, in her bedroom, even in the closet where nothing but old clothes were kept neatly folded. She  lit candles strategically placed around the room so that shadows could not obscure her vision or movement. She sat on her couch and listened to the silence, stared at the flickering lights, waiting for them to hypnotize her into a dreamy state of mind.\n",
    "\n",
    "She was very tired but could not sleep. She stood up and found her way to the bedroom where she stripped off her clothes, put on a nightgown, and climbed into bed. She turned off all the lights except for the bedside lamp and lay there listening to the ticking of the wall clock and to the faint drone of cars passing on the street below. Silence was the only sound in the apartment now, and it was completely deafening.\n",
    "\n",
    "Aimee felt a sudden sense of panic and fear. She had the feeling that someone was watching her, that someone or something was waiting for her to be completely vulnerable before striking out at her. She found herself looking around her apartment, trying to see something or someone who could be causing this feeling. But she found nothing there, only the light from the lamp moving gently against her walls and ceiling. Silence was all around her, and it seemed so absolute that she felt as if she were being smothered by its weight. Silence was all-encompassing. In her apartment.\n",
    "\n",
    "Silence was all-encompassing in her own small corner of the world, and it was suffocating to her. Silence pressed in on her from all sides, making it hard for her to breathe, and she felt suddenly overwhelmed by it.  She started to cry.\n",
    "\n",
    "She cried because the silence was terrifying. She cried because it was so loud, so overwhelming. She cried because she felt alone in a way that no one should have to feel alone, her own small safe island surrounded by an ocean of noise and voices that had suddenly turned into nothing more than a silent and lonely roaring emptiness.\n",
    "\n",
    "She felt exhausted and drained, drained of all the energy it took to simply get through her day. She felt lonely, unable to see past the walls that surrounded her, unable to even reach out for something solid with which she could hold on. She felt defeated by the  silence around her because she knew that it would never be silent again, at least not for a very long time.\n",
    "\n",
    "She cried because there was no one in her apartment, there was no where else to go, there was nothing else to do but cry and wonder why the hell she had ever come back in the first place. She cried because she suddenly felt so alone, more alone than even being at work with all those people who were unable to see past her mask, and all she wanted was to be surrounded by voices and noise.\n",
    "\"\"\""
   ]
  },
  {
   "cell_type": "code",
   "execution_count": null,
   "metadata": {},
   "outputs": [],
   "source": [
    "# coherence_errorifier - takes in a good text (either human or AI generated)\n",
    "# removes random sentences (with a prob of p_remove for each sentences)\n",
    "# reshuffles random sentences (with a prob p_reshuffle for any given sentences, sentence to shuffle with is picked randomly)\n",
    "# adds random sentences (to be implemented later)\n",
    "# each of those should introduce a coherence error"
   ]
  },
  {
   "cell_type": "code",
   "execution_count": 3,
   "metadata": {},
   "outputs": [
    {
     "name": "stdout",
     "output_type": "stream",
     "text": [
      "Collecting nltk\n",
      "  Downloading nltk-3.8.1-py3-none-any.whl (1.5 MB)\n",
      "\u001b[K     |████████████████████████████████| 1.5 MB 4.0 MB/s eta 0:00:01\n",
      "\u001b[?25hCollecting tqdm\n",
      "  Downloading tqdm-4.66.1-py3-none-any.whl (78 kB)\n",
      "\u001b[K     |████████████████████████████████| 78 kB 11.1 MB/s eta 0:00:01\n",
      "\u001b[?25hCollecting click\n",
      "  Downloading click-8.1.7-py3-none-any.whl (97 kB)\n",
      "\u001b[K     |████████████████████████████████| 97 kB 13.0 MB/s eta 0:00:01\n",
      "\u001b[?25hCollecting joblib\n",
      "  Downloading joblib-1.3.2-py3-none-any.whl (302 kB)\n",
      "\u001b[K     |████████████████████████████████| 302 kB 90.2 MB/s eta 0:00:01\n",
      "\u001b[?25hCollecting regex>=2021.8.3\n",
      "  Downloading regex-2023.10.3-cp39-cp39-manylinux_2_17_x86_64.manylinux2014_x86_64.whl (773 kB)\n",
      "\u001b[K     |████████████████████████████████| 773 kB 66.6 MB/s eta 0:00:01\n",
      "\u001b[?25hInstalling collected packages: tqdm, regex, joblib, click, nltk\n",
      "Successfully installed click-8.1.7 joblib-1.3.2 nltk-3.8.1 regex-2023.10.3 tqdm-4.66.1\n",
      "Note: you may need to restart the kernel to use updated packages.\n"
     ]
    }
   ],
   "source": [
    "%pip install nltk"
   ]
  },
  {
   "cell_type": "code",
   "execution_count": 5,
   "metadata": {},
   "outputs": [
    {
     "name": "stdout",
     "output_type": "stream",
     "text": [
      "\n",
      "Aimee Kincaid came home to an empty apartment. She felt alone, even though she had spent the day around people, listening to them talk and laugh and complain. She knew how it sounded when a person sat in solitude after a long trip. She would return from a long journey and sit on her bed and watch the light through the blinds or listen to her neighbor’s conversations with his wife on their balcony. Maybe that was why she felt so strange. Silence was all-encompassing. She sat on her couch and listened to the silence, stared at the flickering lights, waiting for them to hypnotize her into a dreamy state of mind. So different, out of place. She  lit candles strategically placed around the room so that shadows could not obscure her vision or movement. She went into the bathroom and turned on the shower and then, without really knowing why she wanted to, she moved through the apartment turning on all the lights. She was very tired but could not sleep. She turned off all the lights except for the bedside lamp and lay there listening to the ticking of the wall clock and to the faint drone of cars passing on the street below. Aimee felt a sudden sense of panic and fear. She had the feeling that someone was watching her, that someone or something was waiting for her to be completely vulnerable before striking out at her. But she found nothing there, only the light from the lamp moving gently against her walls and ceiling. She turned them on in the kitchen, in her bedroom, even in the closet where nothing but old clothes were kept neatly folded. In her apartment. Silence was all-encompassing in her own small corner of the world, and it was suffocating to her. She started to cry. She cried because the silence was terrifying. She cried because it was so loud, so overwhelming. She cried because she felt alone in a way that no one should have to feel alone, her own small safe island surrounded by an ocean of noise and voices that had suddenly turned into nothing more than a silent and lonely roaring emptiness. She felt exhausted and drained, drained of all the energy it took to simply get through her day. She felt lonely, unable to see past the walls that surrounded her, unable to even reach out for something solid with which she could hold on. She cried because she suddenly felt so alone, more alone than even being at work with all those people who were unable to see past her mask, and all she wanted was to be surrounded by voices and noise.\n"
     ]
    },
    {
     "name": "stderr",
     "output_type": "stream",
     "text": [
      "[nltk_data] Downloading package punkt to\n",
      "[nltk_data]     /home/mbondarenko/nltk_data...\n",
      "[nltk_data]   Package punkt is already up-to-date!\n"
     ]
    }
   ],
   "source": [
    "import random\n",
    "import nltk\n",
    "nltk.download('punkt')\n",
    "from nltk.tokenize import sent_tokenize\n",
    "\n",
    "def coherence_errorifier(text, p_remove, p_reshuffle):\n",
    "    # Tokenize the text into sentences\n",
    "    sentences = sent_tokenize(text)\n",
    "\n",
    "    # Remove random sentences\n",
    "    sentences = [s for s in sentences if random.random() > p_remove]\n",
    "\n",
    "    # Reshuffle random sentences\n",
    "    for i in range(len(sentences)):\n",
    "        if random.random() < p_reshuffle:\n",
    "            swap_index = random.randint(0, len(sentences) - 1)\n",
    "            sentences[i], sentences[swap_index] = sentences[swap_index], sentences[i]\n",
    "\n",
    "    # Add random sentences (to be implemented)\n",
    "\n",
    "    # Reconstruct the text\n",
    "    modified_text = ' '.join(sentences)\n",
    "    return modified_text\n",
    "\n",
    "# Example usage\n",
    "text = init_text\n",
    "modified_text = coherence_errorifier(text, p_remove=0.3, p_reshuffle=0.2)\n",
    "print(modified_text)\n"
   ]
  },
  {
   "cell_type": "code",
   "execution_count": null,
   "metadata": {},
   "outputs": [],
   "source": [
    "init_text = \"\"\"The French Foreign Legion (French: Légion étrangère) is a corps of the French Army that consists of several specialties: infantry, cavalry, engineers, airborne troops.[8] It was created in 1831 to allow foreign nationals into the French Army.[9] It formed part of the Armée d’Afrique, the French Army's units associated with France's colonial project in Africa, until the end of the Algerian war in 1962.[10]\n",
    "\n",
    "Legionnaires are highly trained soldiers and the Legion is unique in that it is open to foreign recruits willing to serve in the French Armed Forces. The Legion is known today as a unit whose training focuses on traditional military skills and on its strong esprit de corps, as its men come from different countries with different cultures. Consequently, training is often described as not only physically challenging, but also very stressful psychologically. Legionnaires may apply for French citizenship after three years' service, or immediately after being wounded during a battle for France under a provision known as \"Français par le sang versé\" (\"French by spilled blood\").\"\"\""
   ]
  },
  {
   "cell_type": "code",
   "execution_count": 6,
   "metadata": {},
   "outputs": [
    {
     "name": "stdout",
     "output_type": "stream",
     "text": [
      "The order makes sense. This is a test for group reshuffling. This is a sample text. It has several sentences. Another group of sentences starts here. And it continues here.\n"
     ]
    },
    {
     "name": "stderr",
     "output_type": "stream",
     "text": [
      "[nltk_data] Downloading package punkt to\n",
      "[nltk_data]     /home/mbondarenko/nltk_data...\n",
      "[nltk_data]   Package punkt is already up-to-date!\n"
     ]
    }
   ],
   "source": [
    "import random\n",
    "import nltk\n",
    "nltk.download('punkt')\n",
    "from nltk.tokenize import sent_tokenize\n",
    "\n",
    "def coherence_errorifier(text, p_remove, p_reshuffle, p_group_reshuffle, max_group_size=2):\n",
    "    # Tokenize the text into sentences\n",
    "    sentences = sent_tokenize(text)\n",
    "\n",
    "    # Remove random sentences\n",
    "    sentences = [s for s in sentences if random.random() > p_remove]\n",
    "\n",
    "    # Reshuffle individual sentences\n",
    "    for i in range(len(sentences)):\n",
    "        if random.random() < p_reshuffle:\n",
    "            swap_index = random.randint(0, len(sentences) - 1)\n",
    "            sentences[i], sentences[swap_index] = sentences[swap_index], sentences[i]\n",
    "\n",
    "    # Reshuffle groups of sentences\n",
    "    i = 0\n",
    "    while i < len(sentences):\n",
    "        if random.random() < p_group_reshuffle:\n",
    "            group_size = random.randint(1, min(max_group_size, len(sentences) - i))\n",
    "            swap_index = random.randint(0, len(sentences) - group_size)\n",
    "            \n",
    "            # Swap groups of sentences\n",
    "            for j in range(group_size):\n",
    "                if i + j < len(sentences) and swap_index + j < len(sentences):\n",
    "                    sentences[i + j], sentences[swap_index + j] = sentences[swap_index + j], sentences[i + j]\n",
    "\n",
    "        i += group_size\n",
    "\n",
    "    # Add random sentences (to be implemented)\n",
    "\n",
    "    # Reconstruct the text\n",
    "    modified_text = ' '.join(sentences)\n",
    "    return modified_text\n",
    "\n",
    "# Example usage\n",
    "text = init_text\n",
    "modified_text = coherence_errorifier(text, p_remove=0.3, p_reshuffle=0.2, p_group_reshuffle=0.3, max_group_size=3)\n",
    "print(modified_text)\n"
   ]
  },
  {
   "cell_type": "code",
   "execution_count": null,
   "metadata": {},
   "outputs": [],
   "source": [
    "# relevance_erorifier - takes in a good text (either human or AI generated)\n",
    "# removes random sentences (with a prob of p_remove for each sentences)\n",
    "# finds sentences closest in embedding to the prompt, removes them (remove N closest sentences)\n",
    "# adds random sentences from other texts\n",
    "# each of those should introduce a relevance error"
   ]
  }
 ],
 "metadata": {
  "kernelspec": {
   "display_name": "Python 3",
   "language": "python",
   "name": "python3"
  },
  "language_info": {
   "codemirror_mode": {
    "name": "ipython",
    "version": 3
   },
   "file_extension": ".py",
   "mimetype": "text/x-python",
   "name": "python",
   "nbconvert_exporter": "python",
   "pygments_lexer": "ipython3",
   "version": "3.9.2"
  }
 },
 "nbformat": 4,
 "nbformat_minor": 2
}
